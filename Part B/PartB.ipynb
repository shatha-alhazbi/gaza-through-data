{
 "cells": [
  {
   "cell_type": "markdown",
   "id": "cabdbd36-1375-459a-a864-b22762e93fcc",
   "metadata": {},
   "source": [
    "## 1. Preprocressing"
   ]
  },
  {
   "cell_type": "code",
   "execution_count": 7,
   "id": "43530994-53d2-4d35-9cbf-afbbb0bed939",
   "metadata": {},
   "outputs": [],
   "source": [
    "import numpy as np\n",
    "from datascience import *"
   ]
  },
  {
   "cell_type": "code",
   "execution_count": 9,
   "id": "3c0fa826-6ce1-4aac-9435-4d8e1946b79c",
   "metadata": {},
   "outputs": [
    {
     "data": {
      "text/html": [
       "<table border=\"1\" class=\"dataframe\">\n",
       "    <thead>\n",
       "        <tr>\n",
       "            <th>report_date</th> <th>report_source</th> <th>report_period</th> <th>ext_massacres_cum</th> <th>killed</th> <th>killed_cum</th> <th>ext_killed</th> <th>ext_killed_cum</th> <th>ext_killed_children_cum</th> <th>ext_killed_women_cum</th> <th>injured_cum</th> <th>ext_injured</th> <th>ext_injured_cum</th> <th>ext_civdef_killed_cum</th> <th>med_killed_cum</th> <th>ext_med_killed_cum</th> <th>press_killed_cum</th> <th>ext_press_killed_cum</th>\n",
       "        </tr>\n",
       "    </thead>\n",
       "    <tbody>\n",
       "        <tr>\n",
       "            <td>2023-10-07 </td> <td>mohtel       </td> <td>24           </td> <td>0                </td> <td>232   </td> <td>232       </td> <td>232       </td> <td>232           </td> <td>0                      </td> <td>0                   </td> <td>1610       </td> <td>1610       </td> <td>1610           </td> <td>0                    </td> <td>6             </td> <td>6                 </td> <td>1               </td> <td>1                   </td>\n",
       "        </tr>\n",
       "        <tr>\n",
       "            <td>2023-10-08 </td> <td>mohtel       </td> <td>24           </td> <td>0                </td> <td>138   </td> <td>370       </td> <td>138       </td> <td>370           </td> <td>78                     </td> <td>41                  </td> <td>1788       </td> <td>178        </td> <td>1788           </td> <td>0                    </td> <td>nan           </td> <td>6                 </td> <td>1               </td> <td>1                   </td>\n",
       "        </tr>\n",
       "        <tr>\n",
       "            <td>2023-10-09 </td> <td>mohtel       </td> <td>24           </td> <td>8                </td> <td>190   </td> <td>560       </td> <td>190       </td> <td>560           </td> <td>91                     </td> <td>61                  </td> <td>2271       </td> <td>483        </td> <td>2271           </td> <td>0                    </td> <td>6             </td> <td>6                 </td> <td>3               </td> <td>3                   </td>\n",
       "        </tr>\n",
       "        <tr>\n",
       "            <td>2023-10-10 </td> <td>mohtel       </td> <td>24           </td> <td>8                </td> <td>340   </td> <td>900       </td> <td>340       </td> <td>900           </td> <td>260                    </td> <td>230                 </td> <td>4000       </td> <td>1729       </td> <td>4000           </td> <td>0                    </td> <td>nan           </td> <td>6                 </td> <td>7               </td> <td>7                   </td>\n",
       "        </tr>\n",
       "        <tr>\n",
       "            <td>2023-10-11 </td> <td>gmotel       </td> <td>24           </td> <td>23               </td> <td>200   </td> <td>1100      </td> <td>200       </td> <td>1100          </td> <td>398                    </td> <td>230                 </td> <td>5184       </td> <td>1184       </td> <td>5184           </td> <td>0                    </td> <td>10            </td> <td>10                </td> <td>nan             </td> <td>7                   </td>\n",
       "        </tr>\n",
       "    </tbody>\n",
       "</table>\n",
       "<p>... (546 rows omitted)</p>"
      ],
      "text/plain": [
       "<IPython.core.display.HTML object>"
      ]
     },
     "metadata": {},
     "output_type": "display_data"
    }
   ],
   "source": [
    "daily_casualties_gaza = Table.read_table('casualties_daily_gaza_2025-04-12.csv')\n",
    "daily_casualties_gaza.show(5)"
   ]
  },
  {
   "cell_type": "code",
   "execution_count": 11,
   "id": "2d3c0511-3c3d-4de5-bd15-4dacb1be7344",
   "metadata": {},
   "outputs": [
    {
     "data": {
      "text/html": [
       "<table border=\"1\" class=\"dataframe\">\n",
       "    <thead>\n",
       "        <tr>\n",
       "            <th>report_date</th> <th>verified.killed</th> <th>verified.killed_cum</th> <th>verified.injured</th> <th>verified.injured_cum</th> <th>verified.killed_children</th> <th>verified.killed_children_cum</th> <th>verified.injured_children</th> <th>verified.injured_children_cum</th> <th>killed_cum</th> <th>killed_children_cum</th> <th>injured_cum</th> <th>injured_children_cum</th> <th>settler_attacks_cum</th> <th>flash_source</th>\n",
       "        </tr>\n",
       "    </thead>\n",
       "    <tbody>\n",
       "        <tr>\n",
       "            <td>2023-10-07 </td> <td>6              </td> <td>6                  </td> <td>197             </td> <td>197                 </td> <td>2                       </td> <td>2                           </td> <td>31                       </td> <td>31                           </td> <td>3         </td> <td>0                  </td> <td>23         </td> <td>1                   </td> <td>3                  </td> <td>un          </td>\n",
       "        </tr>\n",
       "        <tr>\n",
       "            <td>2023-10-08 </td> <td>8              </td> <td>14                 </td> <td>127             </td> <td>324                 </td> <td>3                       </td> <td>5                           </td> <td>7                        </td> <td>38                           </td> <td>13        </td> <td>1                  </td> <td>194        </td> <td>1                   </td> <td>9                  </td> <td>un          </td>\n",
       "        </tr>\n",
       "        <tr>\n",
       "            <td>2023-10-09 </td> <td>4              </td> <td>18                 </td> <td>88              </td> <td>412                 </td> <td>0                       </td> <td>5                           </td> <td>19                       </td> <td>57                           </td> <td>15        </td> <td>3                  </td> <td>295        </td> <td>34                  </td> <td>19                 </td> <td>un          </td>\n",
       "        </tr>\n",
       "        <tr>\n",
       "            <td>2023-10-10 </td> <td>5              </td> <td>23                 </td> <td>72              </td> <td>484                 </td> <td>0                       </td> <td>5                           </td> <td>7                        </td> <td>64                           </td> <td>19        </td> <td>3                  </td> <td>332        </td> <td>39                  </td> <td>29                 </td> <td>un          </td>\n",
       "        </tr>\n",
       "        <tr>\n",
       "            <td>2023-10-11 </td> <td>6              </td> <td>29                 </td> <td>85              </td> <td>569                 </td> <td>2                       </td> <td>7                           </td> <td>17                       </td> <td>81                           </td> <td>26        </td> <td>3                  </td> <td>427        </td> <td>62                  </td> <td>39                 </td> <td>un          </td>\n",
       "        </tr>\n",
       "    </tbody>\n",
       "</table>\n",
       "<p>... (546 rows omitted)</p>"
      ],
      "text/plain": [
       "<IPython.core.display.HTML object>"
      ]
     },
     "metadata": {},
     "output_type": "display_data"
    }
   ],
   "source": [
    "daily_casualties_westbank = Table.read_table('casualties_daily_west_bank_2025-04-12.csv')\n",
    "daily_casualties_westbank.show(5)"
   ]
  },
  {
   "cell_type": "code",
   "execution_count": null,
   "id": "c2b46332-65b5-4fda-a462-ddffc646fb88",
   "metadata": {},
   "outputs": [],
   "source": [
    "pip install pdfplumber"
   ]
  },
  {
   "cell_type": "code",
   "execution_count": 1,
   "id": "bbbbae08-b67a-4bb0-9ef0-475a9c7cbad8",
   "metadata": {},
   "outputs": [
    {
     "name": "stdout",
     "output_type": "stream",
     "text": [
      "Processing pages 1 to 50...\n",
      "Processing pages 51 to 100...\n",
      "Processing pages 101 to 150...\n",
      "Processing pages 151 to 200...\n",
      "Processing pages 201 to 250...\n",
      "Processing pages 251 to 300...\n",
      "Processing pages 301 to 350...\n",
      "Processing pages 351 to 400...\n",
      "Processing pages 401 to 450...\n",
      "Processing pages 451 to 500...\n",
      "Processing pages 501 to 550...\n",
      "Processing pages 551 to 600...\n",
      "Processing pages 601 to 650...\n",
      "Processing pages 651 to 700...\n",
      "Processing pages 701 to 750...\n",
      "Processing pages 751 to 800...\n",
      "Processing pages 801 to 850...\n",
      "Processing pages 851 to 900...\n",
      "Processing pages 901 to 950...\n",
      "Processing pages 951 to 981...\n"
     ]
    }
   ],
   "source": [
    "import pdfplumber\n",
    "from datascience import Table\n",
    "import warnings\n",
    "import logging\n",
    "\n",
    "warnings.filterwarnings(\"ignore\")\n",
    "logging.getLogger(\"pdfminer\").setLevel(logging.ERROR)\n",
    "\n",
    "pdf_path = 'killed-in-gaza_moh_2025-03-23.pdf'\n",
    "\n",
    "with pdfplumber.open(pdf_path) as pdf:\n",
    "    total_pages = len(pdf.pages)\n",
    "    batch_size = 50  # process 50 pages at a time\n",
    "    batch_number = 1\n",
    "    \n",
    "    for start_page in range(0, total_pages, batch_size):\n",
    "        end_page = min(start_page + batch_size, total_pages)\n",
    "        print(f\"Processing pages {start_page+1} to {end_page}...\")\n",
    "\n",
    "        batch_rows = []\n",
    "        columns = None\n",
    "\n",
    "        for page_num in range(start_page, end_page):\n",
    "            page = pdf.pages[page_num]\n",
    "            table = page.extract_table()\n",
    "            if table:\n",
    "                if columns is None:\n",
    "                    columns = table[0]  # first page -> header\n",
    "                    batch_rows.extend(table[1:])  # first page -> skip header\n",
    "                else:\n",
    "                    batch_rows.extend(table)  # other pages -> take all rows\n",
    "\n",
    "        if batch_rows:\n",
    "            # Building a small Table for this batch\n",
    "            batch_table = Table().with_columns(*[(col, []) for col in columns])\n",
    "\n",
    "            for row in batch_rows:\n",
    "                batch_table = batch_table.with_row(row)\n",
    "\n",
    "            # Saving this batch separately\n",
    "            filename = f'killed_in_gaza_batch_{batch_number}.csv'\n",
    "            batch_table.to_csv(filename)\n",
    "\n",
    "        batch_number += 1"
   ]
  },
  {
   "cell_type": "code",
   "execution_count": 44,
   "id": "f9ae262c-c7ca-4c97-b137-8aaf952e1932",
   "metadata": {},
   "outputs": [],
   "source": [
    "import csv\n",
    "import glob\n",
    "import os\n",
    "\n",
    "# Finding all CSV files\n",
    "csv_files = sorted(glob.glob('killed_in_gaza_batch_*.csv'))\n",
    "\n",
    "# Creating a file to store the combined output\n",
    "with open('killed_in_gaza.csv', 'w', encoding='utf-8-sig', newline='') as output_file:\n",
    "    writer = None\n",
    "\n",
    "    for filename in csv_files:\n",
    "        with open(filename, 'r', encoding='utf-8-sig') as f:\n",
    "            reader = csv.reader(f)\n",
    "            \n",
    "            if writer is None:\n",
    "                headers = next(reader)  # read header\n",
    "                writer = csv.writer(output_file)\n",
    "                writer.writerow(headers)\n",
    "\n",
    "            for row in reader:\n",
    "                writer.writerow(row)\n",
    "        os.remove(filename)\n"
   ]
  },
  {
   "cell_type": "code",
   "execution_count": 46,
   "id": "8a1ae3cb-53e7-4ea5-a767-1fe3d3cb61a4",
   "metadata": {},
   "outputs": [
    {
     "data": {
      "text/html": [
       "<table border=\"1\" class=\"dataframe\">\n",
       "    <thead>\n",
       "        <tr>\n",
       "            <th>Index</th> <th>Name</th> <th>مس#ا</th> <th>Born</th> <th>Age</th> <th>Sex</th> <th>ID number</th>\n",
       "        </tr>\n",
       "    </thead>\n",
       "    <tbody>\n",
       "        <tr>\n",
       "            <td>50021</td> <td>Tamam Hussein Ouda Al-Batsh       </td> <td>شطبلا ةدوع 6سح مامت       </td> <td>1914-01-01</td> <td>110 </td> <td>f   </td> <td>920861929</td>\n",
       "        </tr>\n",
       "        <tr>\n",
       "            <td>50020</td> <td>Mariam Al-Abd Mahmoud Al-Kurd     </td> <td>دركلا دومحم دبعلا ميرم    </td> <td>1922-01-01</td> <td>102 </td> <td>f   </td> <td>959190521</td>\n",
       "        </tr>\n",
       "        <tr>\n",
       "            <td>50019</td> <td>Ahmed Mohammed Ibrahim Al-Tahrawi </td> <td>يوارهطلا ميهاربا دمحم دمحأ</td> <td>1922-01-01</td> <td>101 </td> <td>m   </td> <td>940270614</td>\n",
       "        </tr>\n",
       "        <tr>\n",
       "            <td>50018</td> <td>Ramadan Darwish Mustafa Rajab     </td> <td>بجر ىفطصم شيورد ناضمر     </td> <td>1924-01-01</td> <td>100 </td> <td>m   </td> <td>906318118</td>\n",
       "        </tr>\n",
       "        <tr>\n",
       "            <td>50017</td> <td>Jawdat Darwish Darwish Al-Maghribi</td> <td>يبرغ{ا شيورد شيورد تدوج   </td> <td>1925-01-01</td> <td>98  </td> <td>m   </td> <td>945227718</td>\n",
       "        </tr>\n",
       "    </tbody>\n",
       "</table>\n",
       "<p>... (50015 rows omitted)</p>"
      ],
      "text/plain": [
       "<IPython.core.display.HTML object>"
      ]
     },
     "metadata": {},
     "output_type": "display_data"
    }
   ],
   "source": [
    "killed_in_gaza = Table.read_table('killed_in_gaza.csv')\n",
    "killed_in_gaza.sort(\"Index\", descending=True).show(5)"
   ]
  },
  {
   "cell_type": "code",
   "execution_count": 48,
   "id": "d7320923-afeb-47a0-b074-0a93330d93e1",
   "metadata": {},
   "outputs": [
    {
     "data": {
      "text/plain": [
       "50020"
      ]
     },
     "execution_count": 48,
     "metadata": {},
     "output_type": "execute_result"
    }
   ],
   "source": [
    "killed_in_gaza.num_rows"
   ]
  },
  {
   "cell_type": "code",
   "execution_count": 66,
   "id": "17f83a9d-df79-4051-ba97-0ba4050ce4ec",
   "metadata": {},
   "outputs": [],
   "source": [
    "import json\n",
    "import csv\n",
    "\n",
    "# Loading JSON\n",
    "with open('infrastructure-damaged_2025-04-12.json', 'r', encoding='utf-8') as f:\n",
    "    data = json.load(f)\n",
    "\n",
    "# Flattening records\n",
    "flattened_data = []\n",
    "\n",
    "for record in data:\n",
    "    flat_record = {}\n",
    "    for key, value in record.items():\n",
    "        if isinstance(value, dict):\n",
    "            for sub_key, sub_value in value.items():\n",
    "                flat_record[f\"{key}_{sub_key}\"] = sub_value\n",
    "        else:\n",
    "            flat_record[key] = value\n",
    "    flattened_data.append(flat_record)\n",
    "\n",
    "# Finding all possible headers from all records\n",
    "all_keys = set()\n",
    "for row in flattened_data:\n",
    "    all_keys.update(row.keys())\n",
    "\n",
    "# headers = sorted(all_keys)\n",
    "\n",
    "# Saving to CSV\n",
    "with open('infrastructure_damaged.csv', 'w', newline='', encoding='utf-8-sig') as f:\n",
    "    writer = csv.DictWriter(f, fieldnames=headers)\n",
    "    writer.writeheader()\n",
    "    \n",
    "    for row in flattened_data:\n",
    "        # filling missing keys with 0\n",
    "        complete_row = {key: row.get(key, 0) for key in headers}\n",
    "        writer.writerow(complete_row)\n"
   ]
  },
  {
   "cell_type": "code",
   "execution_count": 70,
   "id": "6ef2edaa-adfe-4753-bb32-b5f597bd31f3",
   "metadata": {},
   "outputs": [
    {
     "data": {
      "text/html": [
       "<table border=\"1\" class=\"dataframe\">\n",
       "    <thead>\n",
       "        <tr>\n",
       "            <th>report_date</th> <th>civic_buildings_destroyed</th> <th>civic_buildings_ext_destroyed</th> <th>educational_buildings_damaged</th> <th>educational_buildings_destroyed</th> <th>educational_buildings_ext_damaged</th> <th>educational_buildings_ext_destroyed</th> <th>places_of_worship_churches_destroyed</th> <th>places_of_worship_ext_churches_destroyed</th> <th>places_of_worship_ext_mosques_damaged</th> <th>places_of_worship_ext_mosques_destroyed</th> <th>places_of_worship_mosques_damaged</th> <th>places_of_worship_mosques_destroyed</th> <th>residential_destroyed</th> <th>residential_ext_destroyed</th>\n",
       "        </tr>\n",
       "    </thead>\n",
       "    <tbody>\n",
       "        <tr>\n",
       "            <td>2023-10-07 </td> <td>0                        </td> <td>5                            </td> <td>0                            </td> <td>0                              </td> <td>15                               </td> <td>1                                  </td> <td>0                                   </td> <td>0                                       </td> <td>4                                    </td> <td>2                                      </td> <td>0                                </td> <td>0                                  </td> <td>0                    </td> <td>80                       </td>\n",
       "        </tr>\n",
       "        <tr>\n",
       "            <td>2023-10-08 </td> <td>0                        </td> <td>11                           </td> <td>0                            </td> <td>0                              </td> <td>30                               </td> <td>1                                  </td> <td>0                                   </td> <td>0                                       </td> <td>8                                    </td> <td>4                                      </td> <td>0                                </td> <td>0                                  </td> <td>159                  </td> <td>159                      </td>\n",
       "        </tr>\n",
       "        <tr>\n",
       "            <td>2023-10-09 </td> <td>0                        </td> <td>16                           </td> <td>0                            </td> <td>0                              </td> <td>45                               </td> <td>2                                  </td> <td>0                                   </td> <td>0                                       </td> <td>12                                   </td> <td>6                                      </td> <td>0                                </td> <td>0                                  </td> <td>790                  </td> <td>790                      </td>\n",
       "        </tr>\n",
       "        <tr>\n",
       "            <td>2023-10-10 </td> <td>0                        </td> <td>22                           </td> <td>0                            </td> <td>0                              </td> <td>60                               </td> <td>2                                  </td> <td>0                                   </td> <td>0                                       </td> <td>17                                   </td> <td>8                                      </td> <td>0                                </td> <td>0                                  </td> <td>1009                 </td> <td>1009                     </td>\n",
       "        </tr>\n",
       "        <tr>\n",
       "            <td>2023-10-11 </td> <td>27                       </td> <td>27                           </td> <td>75                           </td> <td>3                              </td> <td>75                               </td> <td>3                                  </td> <td>0                                   </td> <td>0                                       </td> <td>21                                   </td> <td>10                                     </td> <td>0                                </td> <td>10                                 </td> <td>2835                 </td> <td>2835                     </td>\n",
       "        </tr>\n",
       "    </tbody>\n",
       "</table>\n",
       "<p>... (529 rows omitted)</p>"
      ],
      "text/plain": [
       "<IPython.core.display.HTML object>"
      ]
     },
     "metadata": {},
     "output_type": "display_data"
    }
   ],
   "source": [
    "infrastructure_damaged = Table.read_table('infrastructure_damaged.csv')\n",
    "\n",
    "# Making report_date the first column\n",
    "labels = list(infrastructure_damaged.labels)\n",
    "labels.remove('report_date')\n",
    "new_order = ['report_date'] + labels  # Put it first\n",
    "\n",
    "# Rearrange the Table\n",
    "infrastructure_damaged = infrastructure_damaged.select(new_order)\n",
    "\n",
    "infrastructure_damaged.show(5)"
   ]
  },
  {
   "cell_type": "markdown",
   "id": "fabfe247-e995-4d80-a5e1-8d290e0c6235",
   "metadata": {},
   "source": [
    "## 2. Exploratory Analysis & Visualization"
   ]
  },
  {
   "cell_type": "code",
   "execution_count": null,
   "id": "b3718248-d3b0-47dd-9b50-41975f92d1a2",
   "metadata": {},
   "outputs": [],
   "source": []
  }
 ],
 "metadata": {
  "kernelspec": {
   "display_name": "Python [conda env:base] *",
   "language": "python",
   "name": "conda-base-py"
  },
  "language_info": {
   "codemirror_mode": {
    "name": "ipython",
    "version": 3
   },
   "file_extension": ".py",
   "mimetype": "text/x-python",
   "name": "python",
   "nbconvert_exporter": "python",
   "pygments_lexer": "ipython3",
   "version": "3.12.7"
  }
 },
 "nbformat": 4,
 "nbformat_minor": 5
}
